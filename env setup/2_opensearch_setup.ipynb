{
    "cells": [
        {
            "cell_type": "markdown",
            "metadata": {},
            "source": [
                "# OpenSearch 설정하기\n",
                "\n",
                "프로젝트를 위한 Amazon OpenSearch Service 설정 방법을 안내해드리도록 하겠습니다."
            ]
        },
        {
            "cell_type": "markdown",
            "metadata": {},
            "source": [
                "## OpenSearch CloudFormation 스택 배포하기"
            ]
        },
        {
            "cell_type": "code",
            "execution_count": null,
            "metadata": {},
            "source": [
                "import boto3\n",
                "import yaml\n",
                "import time\n",
                "\n",
                "# CloudFormation 템플릿 불러오기\n",
                "with open(\"manifest/setup-opensearch.yaml\", 'r') as file:\n",
                "    template = file.read()\n",
                "\n",
                "# CloudFormation 클라이언트 초기화\n",
                "cf_client = boto3.client('cloudformation')\n",
                "\n",
                "# 스택 배포\n",
                "stack_name = 'contextual-retrieval-opensearch'\n",
                "try:\n",
                "    response = cf_client.create_stack(\n",
                "        StackName=stack_name,\n",
                "        TemplateBody=template,\n",
                "        Capabilities=['CAPABILITY_IAM']\n",
                "    )\n",
                "    print(f\"스택 생성이 시작되었습니다. 스택 ID: {response['StackId']}\")\n",
                "except Exception as e:\n",
                "    print(f\"스택 생성 중 오류가 발생했습니다: {str(e)}\")"
            ]
        },
        {
            "cell_type": "markdown",
            "metadata": {},
            "source": [
                "## 스택 생성 대기하기"
            ]
        },
        {
            "cell_type": "code",
            "execution_count": null,
            "metadata": {},
            "source": [
                "def wait_for_stack(stack_name):\n",
                "    while True:\n",
                "        response = cf_client.describe_stacks(StackName=stack_name)\n",
                "        status = response['Stacks'][0]['StackStatus']\n",
                "        print(f\"현재 상태: {status}\")\n",
                "        \n",
                "        if status.endswith('COMPLETE'):\n",
                "            break\n",
                "        elif status.endswith('FAILED'):\n",
                "            raise Exception(\"스택 생성에 실패했습니다\")\n",
                "            \n",
                "        time.sleep(30)\n",
                "    return response['Stacks'][0]\n",
                "\n",
                "stack = wait_for_stack(stack_name)\n",
                "outputs = {output['OutputKey']: output['OutputValue'] for output in stack['Outputs']}\n",
                "print(\"\\n스택 출력값:\")\n",
                "for key, value in outputs.items():\n",
                "    print(f\"{key}: {value}\")"
            ]
        },
        {
            "cell_type": "markdown",
            "metadata": {},
            "source": [
                "## 환경변수 업데이트하기\n",
                "\n",
                "OpenSearch 도메인 엔드포인트와 인증정보로 .env 파일을 업데이트합니다"
            ]
        },
        {
            "cell_type": "code",
            "execution_count": null,
            "metadata": {},
            "source": [
                "import os\n",
                "from dotenv import load_dotenv\n",
                "\n",
                "# 도메인 엔드포인트에서 https:// 제거\n",
                "domain_endpoint = outputs['DomainEndpoint'].replace('https://', '')\n",
                "\n",
                "env_content = f\"\"\"\n",
                "OPENSEARCH_USER={outputs['UserID']}\n",
                "OPENSEARCH_PASSWORD={outputs['UserPassword']}\n",
                "OPENSEARCH_DOMAIN={domain_endpoint}\n",
                "\"\"\"\n",
                "\n",
                "with open('.env', 'w') as f:\n",
                "    f.write(env_content.strip())\n",
                "\n",
                "print(\".env 파일이 업데이트되었습니다\")"
            ]
        },
        {
            "cell_type": "markdown",
            "metadata": {},
            "source": [
                "## OpenSearch 연결 테스트"
            ]
        },
        {
            "cell_type": "code",
            "execution_count": null,
            "metadata": {},
            "source": [
                "from libs.common_utils import OpenSearch_Manager\n",
                "\n",
                "# 환경변수 다시 불러오기\n",
                "load_dotenv(override=True)\n",
                "\n",
                "# 연결 테스트\n",
                "os_manager = OpenSearch_Manager()\n",
                "try:\n",
                "    indices = os_manager._get_indices()\n",
                "    print(\"OpenSearch에 성공적으로 연결되었습니다\")\n",
                "    print(f\"사용 가능한 인덱스: {indices}\")\n",
                "except Exception as e:\n",
                "    print(f\"OpenSearch 연결 중 오류가 발생했습니다: {str(e)}\")"
            ]
        }
    ],
    "metadata": {
        "kernelspec": {
            "display_name": "Python 3",
            "language": "python",
            "name": "python3"
        }
    },
    "nbformat": 4,
    "nbformat_minor": 4
}