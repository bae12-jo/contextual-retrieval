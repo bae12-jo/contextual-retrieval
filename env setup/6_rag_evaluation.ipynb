{
    "cells": [
        {
            "cell_type": "markdown",
            "metadata": {},
            "source": [
                "# RAG 시스템 평가\n",
                "\n",
                "이 노트북은 RAGAS 메트릭을 사용하여 RAG 시스템의 성능을 평가합니다."
            ]
        },
        {
            "cell_type": "code",
            "execution_count": null,
            "metadata": {},
            "source": [
                "import json\n",
                "from datasets import Dataset\n",
                "from libs.custom_ragas import (\n",
                "    evaluate,\n",
                "    AnswerRelevancy,\n",
                "    Faithfulness,\n",
                "    ContextRecall,\n",
                "    ContextPrecision\n",
                ")"
            ]
        },
        {
            "cell_type": "markdown",
            "metadata": {},
            "source": [
                "## 1. 평가 데이터셋 준비"
            ]
        },
        {
            "cell_type": "code",
            "execution_count": null,
            "metadata": {},
            "source": [
                "# JSONL 파일 로드\n",
                "def load_evaluation_data(file_path):\n",
                "    data = []\n",
                "    with open(file_path, 'r') as f:\n",
                "        for line in f:\n",
                "            data.append(json.loads(line))\n",
                "    return data\n",
                "\n",
                "# 데이터셋 로드\n",
                "eval_data = load_evaluation_data('evaluation_data.jsonl')\n",
                "dataset = Dataset.from_list(eval_data)"
            ]
        },
        {
            "cell_type": "markdown",
            "metadata": {},
            "source": [
                "## 2. 평가 메트릭 설정"
            ]
        },
        {
            "cell_type": "code",
            "execution_count": null,
            "metadata": {},
            "source": [
                "# 평가할 메트릭 선택\n",
                "metrics = [\n",
                "    AnswerRelevancy,\n",
                "    Faithfulness,\n",
                "    ContextRecall,\n",
                "    ContextPrecision\n",
                "]\n",
                "\n",
                "# Bedrock 모델 설정\n",
                "model_id = 'anthropic.claude-3-haiku-20240307'  # 사용할 모델 ID\n",
                "embed_id = 'amazon.titan-embed-text-v1'  # 임베딩 모델 ID\n",
                "region = 'us-west-2'  # AWS 리전"
            ]
        },
        {
            "cell_type": "markdown",
            "metadata": {},
            "source": [
                "## 3. 평가 실행"
            ]
        },
        {
            "cell_type": "code",
            "execution_count": null,
            "metadata": {},
            "source": [
                "# 데이터셋 형식 변환\n",
                "def map_dataset(example):\n",
                "    return {\n",
                "        \"user_input\": example[\"question\"],\n",
                "        \"retrieved_contexts\": example[\"retrieved_contexts\"],\n",
                "        \"response\": example[\"answer\"],\n",
                "        \"reference\": example[\"ground_truth\"]\n",
                "    }\n",
                "\n",
                "formatted_dataset = dataset.map(map_dataset)\n",
                "\n",
                "# 평가 실행\n",
                "evaluation_results = evaluate(\n",
                "    formatted_dataset,\n",
                "    metrics,\n",
                "    model_id,\n",
                "    embed_id,\n",
                "    region\n",
                ")"
            ]
        },
        {
            "cell_type": "markdown",
            "metadata": {},
            "source": [
                "## 4. 결과 분석"
            ]
        },
        {
            "cell_type": "code",
            "execution_count": null,
            "metadata": {},
            "source": [
                "# 평가 결과 출력\n",
                "print(\"\\n평균 점수:\")\n",
                "for metric, score in evaluation_results['average_scores'].items():\n",
                "    print(f\"{metric}: {score:.4f}\")\n",
                "\n",
                "# 결과 저장\n",
                "with open('evaluation_results.json', 'w', encoding='utf-8') as f:\n",
                "    json.dump(evaluation_results, f, ensure_ascii=False, indent=4)"
            ]
        }
    ],
    "metadata": {
        "kernelspec": {
            "display_name": "Python 3",
            "language": "python",
            "name": "python3"
        }
    },
    "nbformat": 4,
    "nbformat_minor": 4
}