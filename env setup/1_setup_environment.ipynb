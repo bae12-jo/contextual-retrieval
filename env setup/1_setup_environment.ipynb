{
    "cells": [
        {
            "cell_type": "markdown",
            "metadata": {},
            "source": [
                "# Amazon Bedrock의 Contextual Retrieval 환경설정\n",
                "\n",
                "프로젝트에 필요한 환경과 설정을 진행하도록 하겠습니다."
            ]
        },
        {
            "cell_type": "markdown",
            "metadata": {},
            "source": [
                "## 필요한 패키지 설치하기"
            ]
        },
        {
            "cell_type": "code",
            "execution_count": null,
            "metadata": {},
            "source": [
                "!pip install -r requirements.txt"
            ]
        },
        {
            "cell_type": "markdown",
            "metadata": {},
            "source": [
                "## 필요한 라이브러리 불러오기"
            ]
        },
        {
            "cell_type": "code",
            "execution_count": null,
            "metadata": {},
            "source": [
                "import os\n",
                "import yaml\n",
                "import boto3\n",
                "from dotenv import load_dotenv"
            ]
        },
        {
            "cell_type": "markdown",
            "metadata": {},
            "source": [
                "## 환경변수 설정하기\n",
                "\n",
                ".env 파일을 아래와 같은 형식으로 만들어주세요:\n",
                "```\n",
                "OPENSEARCH_USER=raguser\n",
                "OPENSEARCH_PASSWORD=MarsEarth1!\n",
                "OPENSEARCH_DOMAIN=사용하실-opensearch-도메인\n",
                "RERANK_API_URL=사용하실-rerank-api-url\n",
                "```"
            ]
        },
        {
            "cell_type": "code",
            "execution_count": null,
            "metadata": {},
            "source": [
                "load_dotenv()\n",
                "\n",
                "# 환경변수 확인\n",
                "required_vars = ['OPENSEARCH_USER', 'OPENSEARCH_PASSWORD', 'OPENSEARCH_DOMAIN']\n",
                "missing_vars = [var for var in required_vars if not os.getenv(var)]\n",
                "\n",
                "if missing_vars:\n",
                "    raise ValueError(f\"다음 환경변수가 없습니다: {', '.join(missing_vars)}\")"
            ]
        },
        {
            "cell_type": "markdown",
            "metadata": {},
            "source": [
                "## AWS 설정하기"
            ]
        },
        {
            "cell_type": "code",
            "execution_count": null,
            "metadata": {},
            "source": [
                "def load_model_config():\n",
                "    with open(\"libs/config.yml\", \"r\") as file:\n",
                "        return yaml.safe_load(file)\n",
                "\n",
                "model_config = load_model_config()\n",
                "print(\"사용 가능한 모델:\", list(model_config['models'].keys()))\n",
                "print(\"사용 가능한 임베딩 모델:\", list(model_config['embedding_models'].keys()))"
            ]
        },
        {
            "cell_type": "code",
            "execution_count": null,
            "metadata": {},
            "source": [
                "# AWS 클라이언트 설정\n",
                "region_name = 'us-west-2'  # 필요시 변경해주세요\n",
                "bedrock_client = boto3.client('bedrock-runtime', region_name=region_name)\n",
                "\n",
                "# 연결 테스트\n",
                "try:\n",
                "    bedrock_client.list_foundation_models()\n",
                "    print(\"Amazon Bedrock에 성공적으로 연결되었습니다\")\n",
                "except Exception as e:\n",
                "    print(f\"Amazon Bedrock 연결 중 오류가 발생했습니다: {str(e)}\")"
            ]
        }
    ],
    "metadata": {
        "kernelspec": {
            "display_name": "Python 3",
            "language": "python",
            "name": "python3"
        }
    },
    "nbformat": 4,
    "nbformat_minor": 4
}