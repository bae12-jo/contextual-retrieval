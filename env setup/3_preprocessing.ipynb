{
    "cells": [
        {
            "cell_type": "markdown",
            "metadata": {},
            "source": [
                "# 문서 전처리 프로세스\n",
                "\n",
                "문서 청킹과 문맥 검색을 포함한 전처리 파이프라인을 구현하는 과정을 안내해드리도록 하겠습니다."
            ]
        },
        {
            "cell_type": "code",
            "execution_count": null,
            "metadata": {},
            "source": [
                "import os\n",
                "from dotenv import load_dotenv\n",
                "from libs.rag_utils import Context_Processor, OpenSearch_Manager\n",
                "import yaml\n",
                "\n",
                "load_dotenv()"
            ]
        },
        {
            "cell_type": "markdown",
            "metadata": {},
            "source": [
                "## OpenSearch Manager 초기화하기"
            ]
        },
        {
            "cell_type": "code",
            "execution_count": null,
            "metadata": {},
            "source": [
                "os_manager = OpenSearch_Manager()\n",
                "print(f\"사용 가능한 인덱스: {os_manager.index_list}\")"
            ]
        },
        {
            "cell_type": "markdown",
            "metadata": {},
            "source": [
                "## 처리 파라미터 설정하기"
            ]
        },
        {
            "cell_type": "code",
            "execution_count": null,
            "metadata": {},
            "source": [
                "# 모델 설정 불러오기\n",
                "with open(\"libs/config.yml\", \"r\") as file:\n",
                "    model_config = yaml.safe_load(file)\n",
                "\n",
                "# 처리 파라미터 설정\n",
                "use_context_retrieval = True\n",
                "index_name = \"contextual_test\" if use_context_retrieval else \"test\"\n",
                "chunk_size = 500\n",
                "overlap = 50\n",
                "max_document_len = 50000  # context_retrieval 사용시에만 적용\n",
                "\n",
                "# 모델 설정\n",
                "embed_model = list(model_config['embedding_models'].keys())[0]\n",
                "embed_model_id = model_config['embedding_models'][embed_model]['model_id']\n",
                "context_model = list(model_config['models'].keys())[1]  # 두 번째 모델을 문맥용으로 사용\n",
                "context_model_id = model_config['models'][context_model]['model_id']\n",
                "bedrock_region = 'us-west-2'"
            ]
        },
        {
            "cell_type": "markdown",
            "metadata": {},
            "source": [
                "## Context Processor 초기화하기"
            ]
        },
        {
            "cell_type": "code",
            "execution_count": null,
            "metadata": {},
            "source": [
                "context_processor = Context_Processor(\n",
                "    os_manager=os_manager,\n",
                "    embed_model=embed_model_id,\n",
                "    bedrock_region=bedrock_region,\n",
                "    index_name=index_name,\n",
                "    chunk_size=chunk_size,\n",
                "    overlap=overlap,\n",
                "    use_context_retrieval=use_context_retrieval,\n",
                "    context_model=context_model_id if use_context_retrieval else None,\n",
                "    max_document_len=max_document_len if use_context_retrieval else None\n",
                ")"
            ]
        },
        {
            "cell_type": "markdown",
            "metadata": {},
            "source": [
                "## PDF 문서 처리하기"
            ]
        },
        {
            "cell_type": "code",
            "execution_count": null,
            "metadata": {},
            "source": [
                "# PDF 파일 경로를 지정해주세요\n",
                "pdf_path = \"sample.pdf\"\n",
                "\n",
                "# 파일 열기 및 처리\n",
                "with open(pdf_path, 'rb') as file:\n",
                "    context_processor.process_file(\n",
                "        file=file,\n",
                "        index_action=\"기존 인덱스 덮어쓰기\",\n",
                "        start_page=1,\n",
                "        end_page=None  # 모든 페이지 처리\n",
                "    )"
            ]
        },
        {
            "cell_type": "markdown",
            "metadata": {},
            "source": [
                "## 처리 결과 확인하기"
            ]
        },
        {
            "cell_type": "code",
            "execution_count": null,
            "metadata": {},
            "source": [
                "# 생성된 인덱스 확인\n",
                "os_manager.refresh_index_list()\n",
                "print(f\"업데이트된 인덱스: {os_manager.index_list}\")\n",
                "\n",
                "# 문맥 검색 사용시 토큰 사용량 확인\n",
                "if use_context_retrieval:\n",
                "    import json\n",
                "    with open(f\"{index_name}_token_usage.json\", 'r') as f:\n",
                "        token_usage = json.load(f)\n",
                "        print(\"\\n토큰 사용량:\")\n",
                "        print(json.dumps(token_usage['total_usage'], indent=2))"
            ]
        }
    ],
    "metadata": {
        "kernelspec": {
            "display_name": "Python 3",
            "language": "python",
            "name": "python3"
        }
    },
    "nbformat": 4,
    "nbformat_minor": 4
}