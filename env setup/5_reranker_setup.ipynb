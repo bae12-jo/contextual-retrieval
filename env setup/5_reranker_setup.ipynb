{
    "cells": [
        {
            "cell_type": "markdown",
            "metadata": {},
            "source": [
                "# Reranker 설정 (Cohere Rerank 모델)\n",
                "\n",
                "이 노트북은 검색 결과의 재순위화를 위한 Cohere Rerank 모델 설정 과정을 안내합니다."
            ]
        },
        {
            "cell_type": "code",
            "execution_count": null,
            "metadata": {},
            "source": [
                "import boto3\n",
                "import json\n",
                "from dotenv import load_dotenv\n",
                "\n",
                "load_dotenv()"
            ]
        },
        {
            "cell_type": "markdown",
            "metadata": {},
            "source": [
                "## 1. SageMaker 엔드포인트 설정"
            ]
        },
        {
            "cell_type": "code",
            "execution_count": null,
            "metadata": {},
            "source": [
                "# SageMaker 클라이언트 초기화\n",
                "sagemaker = boto3.client('sagemaker')\n",
                "\n",
                "# 엔드포인트 설정\n",
                "endpoint_name = 'Endpoint-Cohere-Rerank-3-Nimble-Model-Multi-1'\n",
                "model_name = 'cohere-rerank-3-nimble'\n",
                "\n",
                "# 엔드포인트 생성 설정\n",
                "endpoint_config = {\n",
                "    'EndpointConfigName': f'{endpoint_name}-config',\n",
                "    'ProductionVariants': [{\n",
                "        'VariantName': 'AllTraffic',\n",
                "        'ModelName': model_name,\n",
                "        'InstanceType': 'ml.g5.xlarge',\n",
                "        'InitialInstanceCount': 1\n",
                "    }]\n",
                "}"
            ]
        },
        {
            "cell_type": "markdown",
            "metadata": {},
            "source": [
                "## 2. API Gateway 설정"
            ]
        },
        {
            "cell_type": "code",
            "execution_count": null,
            "metadata": {},
            "source": [
                "# API Gateway 클라이언트 초기화\n",
                "apigateway = boto3.client('apigateway')\n",
                "\n",
                "# API 생성\n",
                "api_name = 'rerank-api'\n",
                "api = apigateway.create_rest_api(name=api_name)\n",
                "api_id = api['id']\n",
                "\n",
                "# Lambda 함수 설정\n",
                "with open('manifest/lambda-handler.py', 'r') as file:\n",
                "    lambda_code = file.read()\n",
                "\n",
                "# Lambda 함수 생성 및 API Gateway 연동\n",
                "lambda_client = boto3.client('lambda')\n",
                "lambda_response = lambda_client.create_function(\n",
                "    FunctionName='rerank-handler',\n",
                "    Runtime='python3.8',\n",
                "    Role='your-lambda-role-arn',  # IAM 역할 ARN 필요\n",
                "    Handler='lambda_function.lambda_handler',\n",
                "    Code={'ZipFile': lambda_code.encode()}\n",
                ")"
            ]
        },
        {
            "cell_type": "markdown",
            "metadata": {},
            "source": [
                "## 3. 재순위화 테스트"
            ]
        },
        {
            "cell_type": "code",
            "execution_count": null,
            "metadata": {},
            "source": [
                "# 테스트 데이터\n",
                "test_data = {\n",
                "    \"documents\": [\n",
                "        {\"content\": \"테스트 문서 1\"},\n",
                "        {\"content\": \"테스트 문서 2\"}\n",
                "    ],\n",
                "    \"query\": \"테스트 쿼리\",\n",
                "    \"top_n\": 2\n",
                "}\n",
                "\n",
                "# API 엔드포인트 테스트\n",
                "import requests\n",
                "\n",
                "api_url = 'your-api-endpoint'  # API Gateway URL\n",
                "response = requests.post(api_url, json=test_data)\n",
                "print(\"재순위화 결과:\", response.json())"
            ]
        }
    ],
    "metadata": {
        "kernelspec": {
            "display_name": "Python 3",
            "language": "python",
            "name": "python3"
        }
    },
    "nbformat": 4,
    "nbformat_minor": 4
}