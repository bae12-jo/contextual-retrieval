{
    "cells": [
        {
            "cell_type": "markdown",
            "metadata": {},
            "source": [
                "# 문맥 검색을 위한 검색 구현\n",
                "\n",
                "KNN, BM25, Rank Fusion 등 다양한 검색 전략을 구현하고 테스트하는 방법을 안내해드리도록 하겠습니다."
            ]
        },
        {
            "cell_type": "code",
            "execution_count": null,
            "metadata": {},
            "source": [
                "import os\n",
                "import json\n",
                "import yaml\n",
                "import boto3\n",
                "from dotenv import load_dotenv\n",
                "from libs.rag_utils import OpenSearch_Manager\n",
                "\n",
                "load_dotenv()"
            ]
        },
        {
            "cell_type": "markdown",
            "metadata": {},
            "source": [
                "## 서비스 초기화하기"
            ]
        },
        {
            "cell_type": "code",
            "execution_count": null,
            "metadata": {},
            "source": [
                "# OpenSearch Manager 초기화\n",
                "os_manager = OpenSearch_Manager()\n",
                "\n",
                "# 모델 설정 불러오기\n",
                "with open(\"libs/config.yml\", \"r\") as file:\n",
                "    model_config = yaml.safe_load(file)\n",
                "\n",
                "# Bedrock 클라이언트 설정\n",
                "bedrock_client = boto3.client('bedrock-runtime', region_name='us-west-2')\n",
                "\n",
                "# 임베딩 모델 가져오기\n",
                "embed_model = list(model_config['embedding_models'].keys())[0]\n",
                "embed_model_id = model_config['embedding_models'][embed_model]['model_id']"
            ]
        },
        {
            "cell_type": "markdown",
            "metadata": {},
            "source": [
                "## 다양한 검색 방법 테스트하기"
            ]
        },
        {
            "cell_type": "code",
            "execution_count": null,
            "metadata": {},
            "source": [
                "def get_embedding(text):\n",
                "    response = bedrock_client.invoke_model(\n",
                "        modelId=embed_model_id,\n",
                "        body=json.dumps({\"inputText\": text})\n",
                "    )\n",
                "    return json.loads(response['body'].read())['embedding']\n",
                "\n",
                "# 테스트 쿼리\n",
                "query = \"Amazon Bedrock의 주요 기능은 무엇인가요?\"\n",
                "index_name = \"aws_contextual_test\"  # 사용하실 인덱스명으로 변경해주세요\n",
                "\n",
                "# 쿼리 임베딩 생성\n",
                "query_embedding = get_embedding(query)"
            ]
        },
        {
            "cell_type": "markdown",
            "metadata": {},
            "source": [
                "### KNN 검색 테스트"
            ]
        },
        {
            "cell_type": "code",
            "execution_count": null,
            "metadata": {},
            "source": [
                "knn_results = os_manager.search_by_knn(\n",
                "    vector=query_embedding,\n",
                "    index_name=index_name,\n",
                "    top_n=5\n",
                ")\n",
                "\n",
                "print(\"\\nKNN 검색 결과:\")\n",
                "for i, result in enumerate(knn_results, 1):\n",
                "    print(f\"\\n결과 {i} (점수: {result['score']})\")\n",
                "    print(f\"내용: {result['content'][:200]}...\")"
            ]
        },
        {
            "cell_type": "markdown",
            "metadata": {},
            "source": [
                "### BM25 검색 테스트"
            ]
        },
        {
            "cell_type": "code",
            "execution_count": null,
            "metadata": {},
            "source": [
                "bm25_results = os_manager.search_by_bm25(\n",
                "    query_text=query,\n",
                "    index_name=index_name,\n",
                "    top_n=5\n",
                ")\n",
                "\n",
                "print(\"\\nBM25 검색 결과:\")\n",
                "for i, result in enumerate(bm25_results, 1):\n",
                "    print(f\"\\n결과 {i} (점수: {result['score']})\")\n",
                "    print(f\"내용: {result['content'][:200]}...\")"
            ]
        },
        {
            "cell_type": "markdown",
            "metadata": {},
            "source": [
                "### Rank Fusion 테스트"
            ]
        },
        {
            "cell_type": "code",
            "execution_count": null,
            "metadata": {},
            "source": [
                "fusion_results = os_manager.search_by_rank_fusion(\n",
                "    query_text=query,\n",
                "    vector=query_embedding,\n",
                "    index_name=index_name,\n",
                "    initial_search_results=160,\n",
                "    hybrid_score_filter=40,\n",
                "    final_reranked_results=5,\n",
                "    knn_weight=0.6\n",
                ")\n",
                "\n",
                "print(\"\\nRank Fusion 결과:\")\n",
                "for i, result in enumerate(fusion_results, 1):\n",
                "    print(f\"\\n결과 {i}\")\n",
                "    print(f\"재순위화 점수: {result['score']}\")\n",
                "    print(f\"하이브리드 점수: {result['hybrid_score']}\")\n",
                "    print(f\"검색 방법: {result['search_methods']}\")\n",
                "    print(f\"내용: {result['content'][:200]}...\")"
            ]
        },
        {
            "cell_type": "markdown",
            "metadata": {},
            "source": [
                "## 결과 비교하기"
            ]
        },
        {
            "cell_type": "code",
            "execution_count": null,
            "metadata": {},
            "source": [
                "def compare_results(knn, bm25, fusion):\n",
                "    print(\"검색 결과 중복 분석:\")\n",
                "    knn_contents = set(r['content'] for r in knn)\n",
                "    bm25_contents = set(r['content'] for r in bm25)\n",
                "    fusion_contents = set(r['content'] for r in fusion)\n",
                "    \n",
                "    print(f\"\\nKNN 고유 결과: {len(knn_contents - (bm25_contents | fusion_contents))}\")\n",
                "    print(f\"BM25 고유 결과: {len(bm25_contents - (knn_contents | fusion_contents))}\")\n",
                "    print(f\"Fusion 고유 결과: {len(fusion_contents - (knn_contents | bm25_contents))}\")\n",
                "    \n",
                "    print(f\"\\n모든 방법에서 공통된 결과: {len(knn_contents & bm25_contents & fusion_contents)}\")\n",
                "    print(f\"KNN과 BM25에서만 공통된 결과: {len(knn_contents & bm25_contents - fusion_contents)}\")\n",
                "    print(f\"KNN과 Fusion에서만 공통된 결과: {len(knn_contents & fusion_contents - bm25_contents)}\")\n",
                "    print(f\"BM25와 Fusion에서만 공통된 결과: {len(bm25_contents & fusion_contents - knn_contents)}\")\n",
                "\n",
                "compare_results(knn_results, bm25_results, fusion_results)"
            ]
        }
    ],
    "metadata": {
        "kernelspec": {
            "display_name": "Python 3",
            "language": "python",
            "name": "python3"
        }
    },
    "nbformat": 4,
    "nbformat_minor": 4
}